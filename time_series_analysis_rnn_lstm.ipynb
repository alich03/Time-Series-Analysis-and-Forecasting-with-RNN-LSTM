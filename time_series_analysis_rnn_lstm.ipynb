{
 "cells": [
  {
   "cell_type": "markdown",
   "metadata": {},
   "source": [
    "# TIME SERIES ANALYSIS WITH RNN & LSTM ON YAHOO! FINANACE DATASET"
   ]
  },
  {
   "cell_type": "markdown",
   "metadata": {},
   "source": [
    "## Importing Libraries"
   ]
  },
  {
   "cell_type": "code",
   "execution_count": 1,
   "metadata": {},
   "outputs": [],
   "source": [
    "import pandas as pd"
   ]
  },
  {
   "cell_type": "markdown",
   "metadata": {},
   "source": [
    "# import dataset (YAHOO FINANCE)"
   ]
  },
  {
   "cell_type": "code",
   "execution_count": 3,
   "metadata": {},
   "outputs": [],
   "source": [
    "df = pd.read_csv(\"data/^GSPTSE.csv\")"
   ]
  },
  {
   "cell_type": "code",
   "execution_count": 4,
   "metadata": {},
   "outputs": [
    {
     "data": {
      "text/html": [
       "<div>\n",
       "<style scoped>\n",
       "    .dataframe tbody tr th:only-of-type {\n",
       "        vertical-align: middle;\n",
       "    }\n",
       "\n",
       "    .dataframe tbody tr th {\n",
       "        vertical-align: top;\n",
       "    }\n",
       "\n",
       "    .dataframe thead th {\n",
       "        text-align: right;\n",
       "    }\n",
       "</style>\n",
       "<table border=\"1\" class=\"dataframe\">\n",
       "  <thead>\n",
       "    <tr style=\"text-align: right;\">\n",
       "      <th></th>\n",
       "      <th>Date</th>\n",
       "      <th>Open</th>\n",
       "      <th>High</th>\n",
       "      <th>Low</th>\n",
       "      <th>Close</th>\n",
       "      <th>Adj Close</th>\n",
       "      <th>Volume</th>\n",
       "    </tr>\n",
       "  </thead>\n",
       "  <tbody>\n",
       "    <tr>\n",
       "      <th>0</th>\n",
       "      <td>2014-08-19</td>\n",
       "      <td>15339.500000</td>\n",
       "      <td>15496.299805</td>\n",
       "      <td>15339.500000</td>\n",
       "      <td>15477.200195</td>\n",
       "      <td>15477.200195</td>\n",
       "      <td>126247600</td>\n",
       "    </tr>\n",
       "    <tr>\n",
       "      <th>1</th>\n",
       "      <td>2014-08-20</td>\n",
       "      <td>15477.700195</td>\n",
       "      <td>15570.500000</td>\n",
       "      <td>15425.799805</td>\n",
       "      <td>15562.000000</td>\n",
       "      <td>15562.000000</td>\n",
       "      <td>140333600</td>\n",
       "    </tr>\n",
       "    <tr>\n",
       "      <th>2</th>\n",
       "      <td>2014-08-21</td>\n",
       "      <td>15561.700195</td>\n",
       "      <td>15566.500000</td>\n",
       "      <td>15526.000000</td>\n",
       "      <td>15556.099609</td>\n",
       "      <td>15556.099609</td>\n",
       "      <td>123912100</td>\n",
       "    </tr>\n",
       "    <tr>\n",
       "      <th>3</th>\n",
       "      <td>2014-08-22</td>\n",
       "      <td>15556.099609</td>\n",
       "      <td>15574.200195</td>\n",
       "      <td>15495.099609</td>\n",
       "      <td>15535.599609</td>\n",
       "      <td>15535.599609</td>\n",
       "      <td>102244500</td>\n",
       "    </tr>\n",
       "    <tr>\n",
       "      <th>4</th>\n",
       "      <td>2014-08-25</td>\n",
       "      <td>15535.900391</td>\n",
       "      <td>15624.000000</td>\n",
       "      <td>15535.900391</td>\n",
       "      <td>15598.700195</td>\n",
       "      <td>15598.700195</td>\n",
       "      <td>101680900</td>\n",
       "    </tr>\n",
       "  </tbody>\n",
       "</table>\n",
       "</div>"
      ],
      "text/plain": [
       "         Date          Open          High           Low         Close  \\\n",
       "0  2014-08-19  15339.500000  15496.299805  15339.500000  15477.200195   \n",
       "1  2014-08-20  15477.700195  15570.500000  15425.799805  15562.000000   \n",
       "2  2014-08-21  15561.700195  15566.500000  15526.000000  15556.099609   \n",
       "3  2014-08-22  15556.099609  15574.200195  15495.099609  15535.599609   \n",
       "4  2014-08-25  15535.900391  15624.000000  15535.900391  15598.700195   \n",
       "\n",
       "      Adj Close     Volume  \n",
       "0  15477.200195  126247600  \n",
       "1  15562.000000  140333600  \n",
       "2  15556.099609  123912100  \n",
       "3  15535.599609  102244500  \n",
       "4  15598.700195  101680900  "
      ]
     },
     "execution_count": 4,
     "metadata": {},
     "output_type": "execute_result"
    }
   ],
   "source": [
    "df.head()"
   ]
  },
  {
   "cell_type": "code",
   "execution_count": 5,
   "metadata": {},
   "outputs": [
    {
     "data": {
      "text/plain": [
       "Date         0\n",
       "Open         0\n",
       "High         0\n",
       "Low          0\n",
       "Close        0\n",
       "Adj Close    0\n",
       "Volume       0\n",
       "dtype: int64"
      ]
     },
     "execution_count": 5,
     "metadata": {},
     "output_type": "execute_result"
    }
   ],
   "source": [
    "df.isnull().sum()"
   ]
  },
  {
   "cell_type": "code",
   "execution_count": 6,
   "metadata": {},
   "outputs": [
    {
     "data": {
      "text/html": [
       "<div>\n",
       "<style scoped>\n",
       "    .dataframe tbody tr th:only-of-type {\n",
       "        vertical-align: middle;\n",
       "    }\n",
       "\n",
       "    .dataframe tbody tr th {\n",
       "        vertical-align: top;\n",
       "    }\n",
       "\n",
       "    .dataframe thead th {\n",
       "        text-align: right;\n",
       "    }\n",
       "</style>\n",
       "<table border=\"1\" class=\"dataframe\">\n",
       "  <thead>\n",
       "    <tr style=\"text-align: right;\">\n",
       "      <th></th>\n",
       "      <th>Open</th>\n",
       "      <th>High</th>\n",
       "      <th>Low</th>\n",
       "      <th>Close</th>\n",
       "      <th>Adj Close</th>\n",
       "      <th>Volume</th>\n",
       "    </tr>\n",
       "  </thead>\n",
       "  <tbody>\n",
       "    <tr>\n",
       "      <th>count</th>\n",
       "      <td>2509.000000</td>\n",
       "      <td>2509.000000</td>\n",
       "      <td>2509.000000</td>\n",
       "      <td>2509.000000</td>\n",
       "      <td>2509.000000</td>\n",
       "      <td>2.509000e+03</td>\n",
       "    </tr>\n",
       "    <tr>\n",
       "      <th>mean</th>\n",
       "      <td>17136.731367</td>\n",
       "      <td>17208.100859</td>\n",
       "      <td>17055.204632</td>\n",
       "      <td>17134.682307</td>\n",
       "      <td>17134.682307</td>\n",
       "      <td>2.276183e+08</td>\n",
       "    </tr>\n",
       "    <tr>\n",
       "      <th>std</th>\n",
       "      <td>2676.711133</td>\n",
       "      <td>2684.404818</td>\n",
       "      <td>2674.277295</td>\n",
       "      <td>2680.439954</td>\n",
       "      <td>2680.439954</td>\n",
       "      <td>7.862513e+07</td>\n",
       "    </tr>\n",
       "    <tr>\n",
       "      <th>min</th>\n",
       "      <td>11657.299805</td>\n",
       "      <td>11870.599609</td>\n",
       "      <td>11172.700195</td>\n",
       "      <td>11228.500000</td>\n",
       "      <td>11228.500000</td>\n",
       "      <td>0.000000e+00</td>\n",
       "    </tr>\n",
       "    <tr>\n",
       "      <th>25%</th>\n",
       "      <td>15119.500000</td>\n",
       "      <td>15173.400391</td>\n",
       "      <td>15053.099609</td>\n",
       "      <td>15119.299805</td>\n",
       "      <td>15119.299805</td>\n",
       "      <td>1.861656e+08</td>\n",
       "    </tr>\n",
       "    <tr>\n",
       "      <th>50%</th>\n",
       "      <td>16276.200195</td>\n",
       "      <td>16325.099609</td>\n",
       "      <td>16214.799805</td>\n",
       "      <td>16274.099609</td>\n",
       "      <td>16274.099609</td>\n",
       "      <td>2.159402e+08</td>\n",
       "    </tr>\n",
       "    <tr>\n",
       "      <th>75%</th>\n",
       "      <td>19862.599609</td>\n",
       "      <td>19943.400391</td>\n",
       "      <td>19775.800781</td>\n",
       "      <td>19873.300781</td>\n",
       "      <td>19873.300781</td>\n",
       "      <td>2.525027e+08</td>\n",
       "    </tr>\n",
       "    <tr>\n",
       "      <th>max</th>\n",
       "      <td>23105.300781</td>\n",
       "      <td>23209.699219</td>\n",
       "      <td>22984.400391</td>\n",
       "      <td>23110.800781</td>\n",
       "      <td>23110.800781</td>\n",
       "      <td>9.440374e+08</td>\n",
       "    </tr>\n",
       "  </tbody>\n",
       "</table>\n",
       "</div>"
      ],
      "text/plain": [
       "               Open          High           Low         Close     Adj Close  \\\n",
       "count   2509.000000   2509.000000   2509.000000   2509.000000   2509.000000   \n",
       "mean   17136.731367  17208.100859  17055.204632  17134.682307  17134.682307   \n",
       "std     2676.711133   2684.404818   2674.277295   2680.439954   2680.439954   \n",
       "min    11657.299805  11870.599609  11172.700195  11228.500000  11228.500000   \n",
       "25%    15119.500000  15173.400391  15053.099609  15119.299805  15119.299805   \n",
       "50%    16276.200195  16325.099609  16214.799805  16274.099609  16274.099609   \n",
       "75%    19862.599609  19943.400391  19775.800781  19873.300781  19873.300781   \n",
       "max    23105.300781  23209.699219  22984.400391  23110.800781  23110.800781   \n",
       "\n",
       "             Volume  \n",
       "count  2.509000e+03  \n",
       "mean   2.276183e+08  \n",
       "std    7.862513e+07  \n",
       "min    0.000000e+00  \n",
       "25%    1.861656e+08  \n",
       "50%    2.159402e+08  \n",
       "75%    2.525027e+08  \n",
       "max    9.440374e+08  "
      ]
     },
     "execution_count": 6,
     "metadata": {},
     "output_type": "execute_result"
    }
   ],
   "source": [
    "df.describe()"
   ]
  },
  {
   "cell_type": "code",
   "execution_count": 7,
   "metadata": {},
   "outputs": [],
   "source": [
    "data = df.copy()"
   ]
  },
  {
   "cell_type": "code",
   "execution_count": 10,
   "metadata": {},
   "outputs": [],
   "source": [
    "data = data.drop(\"Date\",axis=1)"
   ]
  },
  {
   "cell_type": "code",
   "execution_count": 11,
   "metadata": {},
   "outputs": [
    {
     "data": {
      "text/html": [
       "<div>\n",
       "<style scoped>\n",
       "    .dataframe tbody tr th:only-of-type {\n",
       "        vertical-align: middle;\n",
       "    }\n",
       "\n",
       "    .dataframe tbody tr th {\n",
       "        vertical-align: top;\n",
       "    }\n",
       "\n",
       "    .dataframe thead th {\n",
       "        text-align: right;\n",
       "    }\n",
       "</style>\n",
       "<table border=\"1\" class=\"dataframe\">\n",
       "  <thead>\n",
       "    <tr style=\"text-align: right;\">\n",
       "      <th></th>\n",
       "      <th>Open</th>\n",
       "    </tr>\n",
       "  </thead>\n",
       "  <tbody>\n",
       "    <tr>\n",
       "      <th>0</th>\n",
       "      <td>15339.500000</td>\n",
       "    </tr>\n",
       "    <tr>\n",
       "      <th>1</th>\n",
       "      <td>15477.700195</td>\n",
       "    </tr>\n",
       "    <tr>\n",
       "      <th>2</th>\n",
       "      <td>15561.700195</td>\n",
       "    </tr>\n",
       "    <tr>\n",
       "      <th>3</th>\n",
       "      <td>15556.099609</td>\n",
       "    </tr>\n",
       "    <tr>\n",
       "      <th>4</th>\n",
       "      <td>15535.900391</td>\n",
       "    </tr>\n",
       "    <tr>\n",
       "      <th>...</th>\n",
       "      <td>...</td>\n",
       "    </tr>\n",
       "    <tr>\n",
       "      <th>2504</th>\n",
       "      <td>22341.400391</td>\n",
       "    </tr>\n",
       "    <tr>\n",
       "      <th>2505</th>\n",
       "      <td>22439.699219</td>\n",
       "    </tr>\n",
       "    <tr>\n",
       "      <th>2506</th>\n",
       "      <td>22620.900391</td>\n",
       "    </tr>\n",
       "    <tr>\n",
       "      <th>2507</th>\n",
       "      <td>22877.599609</td>\n",
       "    </tr>\n",
       "    <tr>\n",
       "      <th>2508</th>\n",
       "      <td>23015.199219</td>\n",
       "    </tr>\n",
       "  </tbody>\n",
       "</table>\n",
       "<p>2509 rows × 1 columns</p>\n",
       "</div>"
      ],
      "text/plain": [
       "              Open\n",
       "0     15339.500000\n",
       "1     15477.700195\n",
       "2     15561.700195\n",
       "3     15556.099609\n",
       "4     15535.900391\n",
       "...            ...\n",
       "2504  22341.400391\n",
       "2505  22439.699219\n",
       "2506  22620.900391\n",
       "2507  22877.599609\n",
       "2508  23015.199219\n",
       "\n",
       "[2509 rows x 1 columns]"
      ]
     },
     "execution_count": 11,
     "metadata": {},
     "output_type": "execute_result"
    }
   ],
   "source": [
    "data.iloc[:,:1] "
   ]
  },
  {
   "cell_type": "code",
   "execution_count": 12,
   "metadata": {},
   "outputs": [
    {
     "name": "stdout",
     "output_type": "stream",
     "text": [
      "(2008, 1) (501, 1)\n"
     ]
    }
   ],
   "source": [
    "# Setting 80 percent data for training\n",
    "import math\n",
    "\n",
    "training_data_len = math.ceil(len(data) * .8)\n",
    "training_data_len \n",
    "\n",
    "#Splitting the dataset\n",
    "train_data = data[:training_data_len].iloc[:,:1] \n",
    "test_data = data[training_data_len:].iloc[:,:1]\n",
    "print(train_data.shape, test_data.shape)\n"
   ]
  },
  {
   "cell_type": "code",
   "execution_count": 14,
   "metadata": {},
   "outputs": [
    {
     "data": {
      "text/html": [
       "<div>\n",
       "<style scoped>\n",
       "    .dataframe tbody tr th:only-of-type {\n",
       "        vertical-align: middle;\n",
       "    }\n",
       "\n",
       "    .dataframe tbody tr th {\n",
       "        vertical-align: top;\n",
       "    }\n",
       "\n",
       "    .dataframe thead th {\n",
       "        text-align: right;\n",
       "    }\n",
       "</style>\n",
       "<table border=\"1\" class=\"dataframe\">\n",
       "  <thead>\n",
       "    <tr style=\"text-align: right;\">\n",
       "      <th></th>\n",
       "      <th>Open</th>\n",
       "    </tr>\n",
       "  </thead>\n",
       "  <tbody>\n",
       "    <tr>\n",
       "      <th>0</th>\n",
       "      <td>15339.500000</td>\n",
       "    </tr>\n",
       "    <tr>\n",
       "      <th>1</th>\n",
       "      <td>15477.700195</td>\n",
       "    </tr>\n",
       "    <tr>\n",
       "      <th>2</th>\n",
       "      <td>15561.700195</td>\n",
       "    </tr>\n",
       "    <tr>\n",
       "      <th>3</th>\n",
       "      <td>15556.099609</td>\n",
       "    </tr>\n",
       "    <tr>\n",
       "      <th>4</th>\n",
       "      <td>15535.900391</td>\n",
       "    </tr>\n",
       "  </tbody>\n",
       "</table>\n",
       "</div>"
      ],
      "text/plain": [
       "           Open\n",
       "0  15339.500000\n",
       "1  15477.700195\n",
       "2  15561.700195\n",
       "3  15556.099609\n",
       "4  15535.900391"
      ]
     },
     "execution_count": 14,
     "metadata": {},
     "output_type": "execute_result"
    }
   ],
   "source": [
    "train_data.head()"
   ]
  },
  {
   "cell_type": "code",
   "execution_count": 16,
   "metadata": {},
   "outputs": [
    {
     "data": {
      "text/plain": [
       "(2008, 1)"
      ]
     },
     "execution_count": 16,
     "metadata": {},
     "output_type": "execute_result"
    }
   ],
   "source": [
    "# Selecting Open Price values\n",
    "import numpy as np\n",
    "\n",
    "dataset_train = train_data.Open.values \n",
    "# Reshaping 1D to 2D array\n",
    "dataset_train = np.reshape(dataset_train, (-1,1)) \n",
    "dataset_train.shape\n"
   ]
  },
  {
   "cell_type": "code",
   "execution_count": 17,
   "metadata": {},
   "outputs": [
    {
     "name": "stdout",
     "output_type": "stream",
     "text": [
      "[[0.35228277]\n",
      " [0.36550463]\n",
      " [0.37354106]\n",
      " [0.37300524]\n",
      " [0.37107275]]\n"
     ]
    }
   ],
   "source": [
    "\n",
    "from sklearn.preprocessing import MinMaxScaler\n",
    "scaler = MinMaxScaler(feature_range=(0,1))\n",
    "# scaling dataset\n",
    "scaled_train = scaler.fit_transform(dataset_train)\n",
    "\n",
    "print(scaled_train[:5])\n"
   ]
  },
  {
   "cell_type": "code",
   "execution_count": 18,
   "metadata": {},
   "outputs": [
    {
     "name": "stdout",
     "output_type": "stream",
     "text": [
      "[0.43254631] [0.38049144] [0.39049825] [0.38919654] [0.41859493]\n"
     ]
    }
   ],
   "source": [
    "# Selecting Open Price values\n",
    "dataset_test = test_data.Open.values \n",
    "# Reshaping 1D to 2D array\n",
    "dataset_test = np.reshape(dataset_test, (-1,1)) \n",
    "# Normalizing values between 0 and 1\n",
    "scaled_test = scaler.fit_transform(dataset_test) \n",
    "print(*scaled_test[:5])\n"
   ]
  },
  {
   "cell_type": "code",
   "execution_count": 37,
   "metadata": {},
   "outputs": [],
   "source": [
    "days_len = 14"
   ]
  },
  {
   "cell_type": "code",
   "execution_count": 44,
   "metadata": {},
   "outputs": [
    {
     "name": "stdout",
     "output_type": "stream",
     "text": [
      "[array([0.35228277, 0.36550463, 0.37354106, 0.37300524, 0.37107275,\n",
      "       0.37715744, 0.37904219, 0.37728179, 0.37320621, 0.37977888,\n",
      "       0.37903257, 0.3827064 , 0.37498567, 0.37432559])]\n",
      "[0.3686043415868263]\n",
      "\n",
      "[array([0.35228277, 0.36550463, 0.37354106, 0.37300524, 0.37107275,\n",
      "       0.37715744, 0.37904219, 0.37728179, 0.37320621, 0.37977888,\n",
      "       0.37903257, 0.3827064 , 0.37498567, 0.37432559]), array([0.36550463, 0.37354106, 0.37300524, 0.37107275, 0.37715744,\n",
      "       0.37904219, 0.37728179, 0.37320621, 0.37977888, 0.37903257,\n",
      "       0.3827064 , 0.37498567, 0.37432559, 0.36860434])]\n",
      "[0.3686043415868263, 0.3711587977401416]\n",
      "\n"
     ]
    }
   ],
   "source": [
    "X_train = []\n",
    "y_train = []\n",
    "for i in range(days_len, len(scaled_train)):\n",
    "\tX_train.append(scaled_train[i-days_len:i, 0])\n",
    "\ty_train.append(scaled_train[i, 0])\n",
    "\tif i <= days_len+1:\n",
    "\t\tprint(X_train)\n",
    "\t\tprint(y_train)\n",
    "\t\tprint()\n"
   ]
  },
  {
   "cell_type": "code",
   "execution_count": 45,
   "metadata": {},
   "outputs": [],
   "source": [
    "X_test = []\n",
    "y_test = []\n",
    "for i in range(days_len, len(scaled_test)):\n",
    "\tX_test.append(scaled_test[i-days_len:i, 0])\n",
    "\ty_test.append(scaled_test[i, 0])\n"
   ]
  },
  {
   "cell_type": "code",
   "execution_count": 46,
   "metadata": {},
   "outputs": [
    {
     "name": "stdout",
     "output_type": "stream",
     "text": [
      "X_train : (1994, 14, 1) y_train : (1994, 1)\n"
     ]
    }
   ],
   "source": [
    "# The data is converted to Numpy array\n",
    "X_train, y_train = np.array(X_train), np.array(y_train)\n",
    "\n",
    "#Reshaping\n",
    "X_train = np.reshape(X_train, (X_train.shape[0], X_train.shape[1],1))\n",
    "y_train = np.reshape(y_train, (y_train.shape[0],1))\n",
    "print(\"X_train :\",X_train.shape,\"y_train :\",y_train.shape)\n"
   ]
  },
  {
   "cell_type": "code",
   "execution_count": 47,
   "metadata": {},
   "outputs": [
    {
     "name": "stdout",
     "output_type": "stream",
     "text": [
      "X_test : (487, 14, 1) y_test : (487, 1)\n"
     ]
    }
   ],
   "source": [
    "# The data is converted to numpy array\n",
    "X_test, y_test = np.array(X_test), np.array(y_test)\n",
    "\n",
    "#Reshaping\n",
    "X_test = np.reshape(X_test, (X_test.shape[0], X_test.shape[1],1))\n",
    "y_test = np.reshape(y_test, (y_test.shape[0],1))\n",
    "print(\"X_test :\",X_test.shape,\"y_test :\",y_test.shape)\n"
   ]
  },
  {
   "cell_type": "code",
   "execution_count": 23,
   "metadata": {},
   "outputs": [],
   "source": [
    "# importing libraries\n",
    "from keras.models import Sequential\n",
    "from keras.layers import LSTM\n",
    "from keras.layers import Dense\n",
    "from keras.layers import SimpleRNN\n",
    "from keras.layers import Dropout\n",
    "from keras.layers import GRU, Bidirectional\n",
    "from keras.optimizers import SGD\n",
    "from sklearn import metrics\n",
    "from sklearn.metrics import mean_squared_error\n"
   ]
  },
  {
   "cell_type": "markdown",
   "metadata": {},
   "source": [
    "# RNN model"
   ]
  },
  {
   "cell_type": "code",
   "execution_count": 48,
   "metadata": {},
   "outputs": [
    {
     "name": "stderr",
     "output_type": "stream",
     "text": [
      "c:\\Users\\ali60\\AppData\\Local\\Programs\\Python\\Python310\\lib\\site-packages\\keras\\src\\layers\\rnn\\rnn.py:204: UserWarning: Do not pass an `input_shape`/`input_dim` argument to a layer. When using Sequential models, prefer using an `Input(shape)` object as the first layer in the model instead.\n",
      "  super().__init__(**kwargs)\n",
      "c:\\Users\\ali60\\AppData\\Local\\Programs\\Python\\Python310\\lib\\site-packages\\keras\\src\\optimizers\\base_optimizer.py:33: UserWarning: Argument `decay` is no longer supported and will be ignored.\n",
      "  warnings.warn(\n"
     ]
    },
    {
     "name": "stdout",
     "output_type": "stream",
     "text": [
      "Epoch 1/20\n",
      "\u001b[1m997/997\u001b[0m \u001b[32m━━━━━━━━━━━━━━━━━━━━\u001b[0m\u001b[37m\u001b[0m \u001b[1m15s\u001b[0m 11ms/step - loss: 0.0068\n",
      "Epoch 2/20\n",
      "\u001b[1m997/997\u001b[0m \u001b[32m━━━━━━━━━━━━━━━━━━━━\u001b[0m\u001b[37m\u001b[0m \u001b[1m10s\u001b[0m 10ms/step - loss: 0.0016\n",
      "Epoch 3/20\n",
      "\u001b[1m997/997\u001b[0m \u001b[32m━━━━━━━━━━━━━━━━━━━━\u001b[0m\u001b[37m\u001b[0m \u001b[1m10s\u001b[0m 10ms/step - loss: 0.0013\n",
      "Epoch 4/20\n",
      "\u001b[1m997/997\u001b[0m \u001b[32m━━━━━━━━━━━━━━━━━━━━\u001b[0m\u001b[37m\u001b[0m \u001b[1m12s\u001b[0m 12ms/step - loss: 9.9755e-04\n",
      "Epoch 5/20\n",
      "\u001b[1m997/997\u001b[0m \u001b[32m━━━━━━━━━━━━━━━━━━━━\u001b[0m\u001b[37m\u001b[0m \u001b[1m19s\u001b[0m 10ms/step - loss: 8.8237e-04\n",
      "Epoch 6/20\n",
      "\u001b[1m997/997\u001b[0m \u001b[32m━━━━━━━━━━━━━━━━━━━━\u001b[0m\u001b[37m\u001b[0m \u001b[1m14s\u001b[0m 14ms/step - loss: 8.2574e-04\n",
      "Epoch 7/20\n",
      "\u001b[1m997/997\u001b[0m \u001b[32m━━━━━━━━━━━━━━━━━━━━\u001b[0m\u001b[37m\u001b[0m \u001b[1m14s\u001b[0m 14ms/step - loss: 8.7316e-04\n",
      "Epoch 8/20\n",
      "\u001b[1m997/997\u001b[0m \u001b[32m━━━━━━━━━━━━━━━━━━━━\u001b[0m\u001b[37m\u001b[0m \u001b[1m11s\u001b[0m 11ms/step - loss: 7.4200e-04\n",
      "Epoch 9/20\n",
      "\u001b[1m997/997\u001b[0m \u001b[32m━━━━━━━━━━━━━━━━━━━━\u001b[0m\u001b[37m\u001b[0m \u001b[1m10s\u001b[0m 10ms/step - loss: 7.0920e-04\n",
      "Epoch 10/20\n",
      "\u001b[1m997/997\u001b[0m \u001b[32m━━━━━━━━━━━━━━━━━━━━\u001b[0m\u001b[37m\u001b[0m \u001b[1m10s\u001b[0m 10ms/step - loss: 6.9289e-04\n",
      "Epoch 11/20\n",
      "\u001b[1m997/997\u001b[0m \u001b[32m━━━━━━━━━━━━━━━━━━━━\u001b[0m\u001b[37m\u001b[0m \u001b[1m11s\u001b[0m 10ms/step - loss: 6.8331e-04\n",
      "Epoch 12/20\n",
      "\u001b[1m997/997\u001b[0m \u001b[32m━━━━━━━━━━━━━━━━━━━━\u001b[0m\u001b[37m\u001b[0m \u001b[1m21s\u001b[0m 10ms/step - loss: 6.3784e-04\n",
      "Epoch 13/20\n",
      "\u001b[1m997/997\u001b[0m \u001b[32m━━━━━━━━━━━━━━━━━━━━\u001b[0m\u001b[37m\u001b[0m \u001b[1m21s\u001b[0m 10ms/step - loss: 5.9081e-04\n",
      "Epoch 14/20\n",
      "\u001b[1m997/997\u001b[0m \u001b[32m━━━━━━━━━━━━━━━━━━━━\u001b[0m\u001b[37m\u001b[0m \u001b[1m20s\u001b[0m 10ms/step - loss: 6.5402e-04\n",
      "Epoch 15/20\n",
      "\u001b[1m997/997\u001b[0m \u001b[32m━━━━━━━━━━━━━━━━━━━━\u001b[0m\u001b[37m\u001b[0m \u001b[1m9s\u001b[0m 9ms/step - loss: 6.2314e-04\n",
      "Epoch 16/20\n",
      "\u001b[1m997/997\u001b[0m \u001b[32m━━━━━━━━━━━━━━━━━━━━\u001b[0m\u001b[37m\u001b[0m \u001b[1m9s\u001b[0m 9ms/step - loss: 6.1574e-04\n",
      "Epoch 17/20\n",
      "\u001b[1m997/997\u001b[0m \u001b[32m━━━━━━━━━━━━━━━━━━━━\u001b[0m\u001b[37m\u001b[0m \u001b[1m10s\u001b[0m 10ms/step - loss: 6.2217e-04\n",
      "Epoch 18/20\n",
      "\u001b[1m997/997\u001b[0m \u001b[32m━━━━━━━━━━━━━━━━━━━━\u001b[0m\u001b[37m\u001b[0m \u001b[1m9s\u001b[0m 9ms/step - loss: 5.4834e-04\n",
      "Epoch 19/20\n",
      "\u001b[1m997/997\u001b[0m \u001b[32m━━━━━━━━━━━━━━━━━━━━\u001b[0m\u001b[37m\u001b[0m \u001b[1m9s\u001b[0m 9ms/step - loss: 5.6479e-04\n",
      "Epoch 20/20\n",
      "\u001b[1m997/997\u001b[0m \u001b[32m━━━━━━━━━━━━━━━━━━━━\u001b[0m\u001b[37m\u001b[0m \u001b[1m9s\u001b[0m 9ms/step - loss: 5.9498e-04\n"
     ]
    },
    {
     "data": {
      "text/html": [
       "<pre style=\"white-space:pre;overflow-x:auto;line-height:normal;font-family:Menlo,'DejaVu Sans Mono',consolas,'Courier New',monospace\"><span style=\"font-weight: bold\">Model: \"sequential_2\"</span>\n",
       "</pre>\n"
      ],
      "text/plain": [
       "\u001b[1mModel: \"sequential_2\"\u001b[0m\n"
      ]
     },
     "metadata": {},
     "output_type": "display_data"
    },
    {
     "data": {
      "text/html": [
       "<pre style=\"white-space:pre;overflow-x:auto;line-height:normal;font-family:Menlo,'DejaVu Sans Mono',consolas,'Courier New',monospace\">┏━━━━━━━━━━━━━━━━━━━━━━━━━━━━━━━━━┳━━━━━━━━━━━━━━━━━━━━━━━━┳━━━━━━━━━━━━━━━┓\n",
       "┃<span style=\"font-weight: bold\"> Layer (type)                    </span>┃<span style=\"font-weight: bold\"> Output Shape           </span>┃<span style=\"font-weight: bold\">       Param # </span>┃\n",
       "┡━━━━━━━━━━━━━━━━━━━━━━━━━━━━━━━━━╇━━━━━━━━━━━━━━━━━━━━━━━━╇━━━━━━━━━━━━━━━┩\n",
       "│ simple_rnn_4 (<span style=\"color: #0087ff; text-decoration-color: #0087ff\">SimpleRNN</span>)        │ (<span style=\"color: #00d7ff; text-decoration-color: #00d7ff\">None</span>, <span style=\"color: #00af00; text-decoration-color: #00af00\">14</span>, <span style=\"color: #00af00; text-decoration-color: #00af00\">50</span>)         │         <span style=\"color: #00af00; text-decoration-color: #00af00\">2,600</span> │\n",
       "├─────────────────────────────────┼────────────────────────┼───────────────┤\n",
       "│ dropout_1 (<span style=\"color: #0087ff; text-decoration-color: #0087ff\">Dropout</span>)             │ (<span style=\"color: #00d7ff; text-decoration-color: #00d7ff\">None</span>, <span style=\"color: #00af00; text-decoration-color: #00af00\">14</span>, <span style=\"color: #00af00; text-decoration-color: #00af00\">50</span>)         │             <span style=\"color: #00af00; text-decoration-color: #00af00\">0</span> │\n",
       "├─────────────────────────────────┼────────────────────────┼───────────────┤\n",
       "│ simple_rnn_5 (<span style=\"color: #0087ff; text-decoration-color: #0087ff\">SimpleRNN</span>)        │ (<span style=\"color: #00d7ff; text-decoration-color: #00d7ff\">None</span>, <span style=\"color: #00af00; text-decoration-color: #00af00\">14</span>, <span style=\"color: #00af00; text-decoration-color: #00af00\">50</span>)         │         <span style=\"color: #00af00; text-decoration-color: #00af00\">5,050</span> │\n",
       "├─────────────────────────────────┼────────────────────────┼───────────────┤\n",
       "│ simple_rnn_6 (<span style=\"color: #0087ff; text-decoration-color: #0087ff\">SimpleRNN</span>)        │ (<span style=\"color: #00d7ff; text-decoration-color: #00d7ff\">None</span>, <span style=\"color: #00af00; text-decoration-color: #00af00\">14</span>, <span style=\"color: #00af00; text-decoration-color: #00af00\">50</span>)         │         <span style=\"color: #00af00; text-decoration-color: #00af00\">5,050</span> │\n",
       "├─────────────────────────────────┼────────────────────────┼───────────────┤\n",
       "│ simple_rnn_7 (<span style=\"color: #0087ff; text-decoration-color: #0087ff\">SimpleRNN</span>)        │ (<span style=\"color: #00d7ff; text-decoration-color: #00d7ff\">None</span>, <span style=\"color: #00af00; text-decoration-color: #00af00\">50</span>)             │         <span style=\"color: #00af00; text-decoration-color: #00af00\">5,050</span> │\n",
       "├─────────────────────────────────┼────────────────────────┼───────────────┤\n",
       "│ dense_3 (<span style=\"color: #0087ff; text-decoration-color: #0087ff\">Dense</span>)                 │ (<span style=\"color: #00d7ff; text-decoration-color: #00d7ff\">None</span>, <span style=\"color: #00af00; text-decoration-color: #00af00\">1</span>)              │            <span style=\"color: #00af00; text-decoration-color: #00af00\">51</span> │\n",
       "└─────────────────────────────────┴────────────────────────┴───────────────┘\n",
       "</pre>\n"
      ],
      "text/plain": [
       "┏━━━━━━━━━━━━━━━━━━━━━━━━━━━━━━━━━┳━━━━━━━━━━━━━━━━━━━━━━━━┳━━━━━━━━━━━━━━━┓\n",
       "┃\u001b[1m \u001b[0m\u001b[1mLayer (type)                   \u001b[0m\u001b[1m \u001b[0m┃\u001b[1m \u001b[0m\u001b[1mOutput Shape          \u001b[0m\u001b[1m \u001b[0m┃\u001b[1m \u001b[0m\u001b[1m      Param #\u001b[0m\u001b[1m \u001b[0m┃\n",
       "┡━━━━━━━━━━━━━━━━━━━━━━━━━━━━━━━━━╇━━━━━━━━━━━━━━━━━━━━━━━━╇━━━━━━━━━━━━━━━┩\n",
       "│ simple_rnn_4 (\u001b[38;5;33mSimpleRNN\u001b[0m)        │ (\u001b[38;5;45mNone\u001b[0m, \u001b[38;5;34m14\u001b[0m, \u001b[38;5;34m50\u001b[0m)         │         \u001b[38;5;34m2,600\u001b[0m │\n",
       "├─────────────────────────────────┼────────────────────────┼───────────────┤\n",
       "│ dropout_1 (\u001b[38;5;33mDropout\u001b[0m)             │ (\u001b[38;5;45mNone\u001b[0m, \u001b[38;5;34m14\u001b[0m, \u001b[38;5;34m50\u001b[0m)         │             \u001b[38;5;34m0\u001b[0m │\n",
       "├─────────────────────────────────┼────────────────────────┼───────────────┤\n",
       "│ simple_rnn_5 (\u001b[38;5;33mSimpleRNN\u001b[0m)        │ (\u001b[38;5;45mNone\u001b[0m, \u001b[38;5;34m14\u001b[0m, \u001b[38;5;34m50\u001b[0m)         │         \u001b[38;5;34m5,050\u001b[0m │\n",
       "├─────────────────────────────────┼────────────────────────┼───────────────┤\n",
       "│ simple_rnn_6 (\u001b[38;5;33mSimpleRNN\u001b[0m)        │ (\u001b[38;5;45mNone\u001b[0m, \u001b[38;5;34m14\u001b[0m, \u001b[38;5;34m50\u001b[0m)         │         \u001b[38;5;34m5,050\u001b[0m │\n",
       "├─────────────────────────────────┼────────────────────────┼───────────────┤\n",
       "│ simple_rnn_7 (\u001b[38;5;33mSimpleRNN\u001b[0m)        │ (\u001b[38;5;45mNone\u001b[0m, \u001b[38;5;34m50\u001b[0m)             │         \u001b[38;5;34m5,050\u001b[0m │\n",
       "├─────────────────────────────────┼────────────────────────┼───────────────┤\n",
       "│ dense_3 (\u001b[38;5;33mDense\u001b[0m)                 │ (\u001b[38;5;45mNone\u001b[0m, \u001b[38;5;34m1\u001b[0m)              │            \u001b[38;5;34m51\u001b[0m │\n",
       "└─────────────────────────────────┴────────────────────────┴───────────────┘\n"
      ]
     },
     "metadata": {},
     "output_type": "display_data"
    },
    {
     "data": {
      "text/html": [
       "<pre style=\"white-space:pre;overflow-x:auto;line-height:normal;font-family:Menlo,'DejaVu Sans Mono',consolas,'Courier New',monospace\"><span style=\"font-weight: bold\"> Total params: </span><span style=\"color: #00af00; text-decoration-color: #00af00\">35,604</span> (139.08 KB)\n",
       "</pre>\n"
      ],
      "text/plain": [
       "\u001b[1m Total params: \u001b[0m\u001b[38;5;34m35,604\u001b[0m (139.08 KB)\n"
      ]
     },
     "metadata": {},
     "output_type": "display_data"
    },
    {
     "data": {
      "text/html": [
       "<pre style=\"white-space:pre;overflow-x:auto;line-height:normal;font-family:Menlo,'DejaVu Sans Mono',consolas,'Courier New',monospace\"><span style=\"font-weight: bold\"> Trainable params: </span><span style=\"color: #00af00; text-decoration-color: #00af00\">17,801</span> (69.54 KB)\n",
       "</pre>\n"
      ],
      "text/plain": [
       "\u001b[1m Trainable params: \u001b[0m\u001b[38;5;34m17,801\u001b[0m (69.54 KB)\n"
      ]
     },
     "metadata": {},
     "output_type": "display_data"
    },
    {
     "data": {
      "text/html": [
       "<pre style=\"white-space:pre;overflow-x:auto;line-height:normal;font-family:Menlo,'DejaVu Sans Mono',consolas,'Courier New',monospace\"><span style=\"font-weight: bold\"> Non-trainable params: </span><span style=\"color: #00af00; text-decoration-color: #00af00\">0</span> (0.00 B)\n",
       "</pre>\n"
      ],
      "text/plain": [
       "\u001b[1m Non-trainable params: \u001b[0m\u001b[38;5;34m0\u001b[0m (0.00 B)\n"
      ]
     },
     "metadata": {},
     "output_type": "display_data"
    },
    {
     "data": {
      "text/html": [
       "<pre style=\"white-space:pre;overflow-x:auto;line-height:normal;font-family:Menlo,'DejaVu Sans Mono',consolas,'Courier New',monospace\"><span style=\"font-weight: bold\"> Optimizer params: </span><span style=\"color: #00af00; text-decoration-color: #00af00\">17,803</span> (69.55 KB)\n",
       "</pre>\n"
      ],
      "text/plain": [
       "\u001b[1m Optimizer params: \u001b[0m\u001b[38;5;34m17,803\u001b[0m (69.55 KB)\n"
      ]
     },
     "metadata": {},
     "output_type": "display_data"
    }
   ],
   "source": [
    "# initializing the RNN\n",
    "rnn_model = Sequential()\n",
    "\n",
    "# adding RNN layers and dropout regularization\n",
    "rnn_model.add(SimpleRNN(units = 50, activation = \"tanh\",return_sequences = True,input_shape = (X_train.shape[1],1)))\n",
    "\n",
    "rnn_model.add(Dropout(0.2))\n",
    "\n",
    "rnn_model.add(SimpleRNN(units = 50, activation = \"tanh\",return_sequences = True))\n",
    "\n",
    "rnn_model.add(SimpleRNN(units = 50,activation = \"tanh\",return_sequences = True))\n",
    "\n",
    "rnn_model.add( SimpleRNN(units = 50))\n",
    "\n",
    "# adding the output layer\n",
    "rnn_model.add(Dense(units = 1,activation='sigmoid'))\n",
    "\n",
    "# compiling RNN\n",
    "rnn_model.compile(optimizer = SGD(learning_rate=0.01,decay=1e-6,momentum=0.9,nesterov=True),loss = \"mean_squared_error\")\n",
    "\n",
    "# fitting the model\n",
    "rnn_model.fit(X_train, y_train, epochs = 20, batch_size = 2)\n",
    "rnn_model.summary()\n"
   ]
  },
  {
   "cell_type": "markdown",
   "metadata": {},
   "source": [
    "# LSTM Model"
   ]
  },
  {
   "cell_type": "code",
   "execution_count": 53,
   "metadata": {},
   "outputs": [
    {
     "name": "stderr",
     "output_type": "stream",
     "text": [
      "c:\\Users\\ali60\\AppData\\Local\\Programs\\Python\\Python310\\lib\\site-packages\\keras\\src\\layers\\rnn\\rnn.py:204: UserWarning: Do not pass an `input_shape`/`input_dim` argument to a layer. When using Sequential models, prefer using an `Input(shape)` object as the first layer in the model instead.\n",
      "  super().__init__(**kwargs)\n"
     ]
    },
    {
     "name": "stdout",
     "output_type": "stream",
     "text": [
      "Epoch 1/12\n",
      "\u001b[1m1994/1994\u001b[0m \u001b[32m━━━━━━━━━━━━━━━━━━━━\u001b[0m\u001b[37m\u001b[0m \u001b[1m22s\u001b[0m 8ms/step - accuracy: 9.9246e-04 - loss: 0.0068\n",
      "Epoch 2/12\n",
      "\u001b[1m1994/1994\u001b[0m \u001b[32m━━━━━━━━━━━━━━━━━━━━\u001b[0m\u001b[37m\u001b[0m \u001b[1m16s\u001b[0m 8ms/step - accuracy: 0.0012 - loss: 0.0010\n",
      "Epoch 3/12\n",
      "\u001b[1m1994/1994\u001b[0m \u001b[32m━━━━━━━━━━━━━━━━━━━━\u001b[0m\u001b[37m\u001b[0m \u001b[1m16s\u001b[0m 8ms/step - accuracy: 4.0938e-04 - loss: 4.7445e-04\n",
      "Epoch 4/12\n",
      "\u001b[1m1994/1994\u001b[0m \u001b[32m━━━━━━━━━━━━━━━━━━━━\u001b[0m\u001b[37m\u001b[0m \u001b[1m20s\u001b[0m 8ms/step - accuracy: 0.0029 - loss: 4.5079e-04\n",
      "Epoch 5/12\n",
      "\u001b[1m1994/1994\u001b[0m \u001b[32m━━━━━━━━━━━━━━━━━━━━\u001b[0m\u001b[37m\u001b[0m \u001b[1m16s\u001b[0m 8ms/step - accuracy: 5.9879e-04 - loss: 3.3657e-04\n",
      "Epoch 6/12\n",
      "\u001b[1m1994/1994\u001b[0m \u001b[32m━━━━━━━━━━━━━━━━━━━━\u001b[0m\u001b[37m\u001b[0m \u001b[1m17s\u001b[0m 8ms/step - accuracy: 3.1653e-04 - loss: 4.3201e-04\n",
      "Epoch 7/12\n",
      "\u001b[1m1994/1994\u001b[0m \u001b[32m━━━━━━━━━━━━━━━━━━━━\u001b[0m\u001b[37m\u001b[0m \u001b[1m17s\u001b[0m 8ms/step - accuracy: 4.4324e-04 - loss: 3.3591e-04\n",
      "Epoch 8/12\n",
      "\u001b[1m1994/1994\u001b[0m \u001b[32m━━━━━━━━━━━━━━━━━━━━\u001b[0m\u001b[37m\u001b[0m \u001b[1m17s\u001b[0m 8ms/step - accuracy: 3.8945e-04 - loss: 3.5328e-04\n",
      "Epoch 9/12\n",
      "\u001b[1m1994/1994\u001b[0m \u001b[32m━━━━━━━━━━━━━━━━━━━━\u001b[0m\u001b[37m\u001b[0m \u001b[1m17s\u001b[0m 8ms/step - accuracy: 0.0043 - loss: 3.3722e-04\n",
      "Epoch 10/12\n",
      "\u001b[1m1994/1994\u001b[0m \u001b[32m━━━━━━━━━━━━━━━━━━━━\u001b[0m\u001b[37m\u001b[0m \u001b[1m16s\u001b[0m 8ms/step - accuracy: 2.7374e-04 - loss: 3.0140e-04\n",
      "Epoch 11/12\n",
      "\u001b[1m1994/1994\u001b[0m \u001b[32m━━━━━━━━━━━━━━━━━━━━\u001b[0m\u001b[37m\u001b[0m \u001b[1m16s\u001b[0m 8ms/step - accuracy: 1.5959e-04 - loss: 2.8148e-04\n",
      "Epoch 12/12\n",
      "\u001b[1m1994/1994\u001b[0m \u001b[32m━━━━━━━━━━━━━━━━━━━━\u001b[0m\u001b[37m\u001b[0m \u001b[1m16s\u001b[0m 8ms/step - accuracy: 6.8715e-04 - loss: 3.1368e-04\n"
     ]
    },
    {
     "data": {
      "text/html": [
       "<pre style=\"white-space:pre;overflow-x:auto;line-height:normal;font-family:Menlo,'DejaVu Sans Mono',consolas,'Courier New',monospace\"><span style=\"font-weight: bold\">Model: \"sequential_3\"</span>\n",
       "</pre>\n"
      ],
      "text/plain": [
       "\u001b[1mModel: \"sequential_3\"\u001b[0m\n"
      ]
     },
     "metadata": {},
     "output_type": "display_data"
    },
    {
     "data": {
      "text/html": [
       "<pre style=\"white-space:pre;overflow-x:auto;line-height:normal;font-family:Menlo,'DejaVu Sans Mono',consolas,'Courier New',monospace\">┏━━━━━━━━━━━━━━━━━━━━━━━━━━━━━━━━━┳━━━━━━━━━━━━━━━━━━━━━━━━┳━━━━━━━━━━━━━━━┓\n",
       "┃<span style=\"font-weight: bold\"> Layer (type)                    </span>┃<span style=\"font-weight: bold\"> Output Shape           </span>┃<span style=\"font-weight: bold\">       Param # </span>┃\n",
       "┡━━━━━━━━━━━━━━━━━━━━━━━━━━━━━━━━━╇━━━━━━━━━━━━━━━━━━━━━━━━╇━━━━━━━━━━━━━━━┩\n",
       "│ lstm_2 (<span style=\"color: #0087ff; text-decoration-color: #0087ff\">LSTM</span>)                   │ (<span style=\"color: #00d7ff; text-decoration-color: #00d7ff\">None</span>, <span style=\"color: #00af00; text-decoration-color: #00af00\">14</span>, <span style=\"color: #00af00; text-decoration-color: #00af00\">50</span>)         │        <span style=\"color: #00af00; text-decoration-color: #00af00\">10,400</span> │\n",
       "├─────────────────────────────────┼────────────────────────┼───────────────┤\n",
       "│ lstm_3 (<span style=\"color: #0087ff; text-decoration-color: #0087ff\">LSTM</span>)                   │ (<span style=\"color: #00d7ff; text-decoration-color: #00d7ff\">None</span>, <span style=\"color: #00af00; text-decoration-color: #00af00\">50</span>)             │        <span style=\"color: #00af00; text-decoration-color: #00af00\">20,200</span> │\n",
       "├─────────────────────────────────┼────────────────────────┼───────────────┤\n",
       "│ dense_4 (<span style=\"color: #0087ff; text-decoration-color: #0087ff\">Dense</span>)                 │ (<span style=\"color: #00d7ff; text-decoration-color: #00d7ff\">None</span>, <span style=\"color: #00af00; text-decoration-color: #00af00\">25</span>)             │         <span style=\"color: #00af00; text-decoration-color: #00af00\">1,275</span> │\n",
       "├─────────────────────────────────┼────────────────────────┼───────────────┤\n",
       "│ dense_5 (<span style=\"color: #0087ff; text-decoration-color: #0087ff\">Dense</span>)                 │ (<span style=\"color: #00d7ff; text-decoration-color: #00d7ff\">None</span>, <span style=\"color: #00af00; text-decoration-color: #00af00\">1</span>)              │            <span style=\"color: #00af00; text-decoration-color: #00af00\">26</span> │\n",
       "└─────────────────────────────────┴────────────────────────┴───────────────┘\n",
       "</pre>\n"
      ],
      "text/plain": [
       "┏━━━━━━━━━━━━━━━━━━━━━━━━━━━━━━━━━┳━━━━━━━━━━━━━━━━━━━━━━━━┳━━━━━━━━━━━━━━━┓\n",
       "┃\u001b[1m \u001b[0m\u001b[1mLayer (type)                   \u001b[0m\u001b[1m \u001b[0m┃\u001b[1m \u001b[0m\u001b[1mOutput Shape          \u001b[0m\u001b[1m \u001b[0m┃\u001b[1m \u001b[0m\u001b[1m      Param #\u001b[0m\u001b[1m \u001b[0m┃\n",
       "┡━━━━━━━━━━━━━━━━━━━━━━━━━━━━━━━━━╇━━━━━━━━━━━━━━━━━━━━━━━━╇━━━━━━━━━━━━━━━┩\n",
       "│ lstm_2 (\u001b[38;5;33mLSTM\u001b[0m)                   │ (\u001b[38;5;45mNone\u001b[0m, \u001b[38;5;34m14\u001b[0m, \u001b[38;5;34m50\u001b[0m)         │        \u001b[38;5;34m10,400\u001b[0m │\n",
       "├─────────────────────────────────┼────────────────────────┼───────────────┤\n",
       "│ lstm_3 (\u001b[38;5;33mLSTM\u001b[0m)                   │ (\u001b[38;5;45mNone\u001b[0m, \u001b[38;5;34m50\u001b[0m)             │        \u001b[38;5;34m20,200\u001b[0m │\n",
       "├─────────────────────────────────┼────────────────────────┼───────────────┤\n",
       "│ dense_4 (\u001b[38;5;33mDense\u001b[0m)                 │ (\u001b[38;5;45mNone\u001b[0m, \u001b[38;5;34m25\u001b[0m)             │         \u001b[38;5;34m1,275\u001b[0m │\n",
       "├─────────────────────────────────┼────────────────────────┼───────────────┤\n",
       "│ dense_5 (\u001b[38;5;33mDense\u001b[0m)                 │ (\u001b[38;5;45mNone\u001b[0m, \u001b[38;5;34m1\u001b[0m)              │            \u001b[38;5;34m26\u001b[0m │\n",
       "└─────────────────────────────────┴────────────────────────┴───────────────┘\n"
      ]
     },
     "metadata": {},
     "output_type": "display_data"
    },
    {
     "data": {
      "text/html": [
       "<pre style=\"white-space:pre;overflow-x:auto;line-height:normal;font-family:Menlo,'DejaVu Sans Mono',consolas,'Courier New',monospace\"><span style=\"font-weight: bold\"> Total params: </span><span style=\"color: #00af00; text-decoration-color: #00af00\">95,705</span> (373.85 KB)\n",
       "</pre>\n"
      ],
      "text/plain": [
       "\u001b[1m Total params: \u001b[0m\u001b[38;5;34m95,705\u001b[0m (373.85 KB)\n"
      ]
     },
     "metadata": {},
     "output_type": "display_data"
    },
    {
     "data": {
      "text/html": [
       "<pre style=\"white-space:pre;overflow-x:auto;line-height:normal;font-family:Menlo,'DejaVu Sans Mono',consolas,'Courier New',monospace\"><span style=\"font-weight: bold\"> Trainable params: </span><span style=\"color: #00af00; text-decoration-color: #00af00\">31,901</span> (124.61 KB)\n",
       "</pre>\n"
      ],
      "text/plain": [
       "\u001b[1m Trainable params: \u001b[0m\u001b[38;5;34m31,901\u001b[0m (124.61 KB)\n"
      ]
     },
     "metadata": {},
     "output_type": "display_data"
    },
    {
     "data": {
      "text/html": [
       "<pre style=\"white-space:pre;overflow-x:auto;line-height:normal;font-family:Menlo,'DejaVu Sans Mono',consolas,'Courier New',monospace\"><span style=\"font-weight: bold\"> Non-trainable params: </span><span style=\"color: #00af00; text-decoration-color: #00af00\">0</span> (0.00 B)\n",
       "</pre>\n"
      ],
      "text/plain": [
       "\u001b[1m Non-trainable params: \u001b[0m\u001b[38;5;34m0\u001b[0m (0.00 B)\n"
      ]
     },
     "metadata": {},
     "output_type": "display_data"
    },
    {
     "data": {
      "text/html": [
       "<pre style=\"white-space:pre;overflow-x:auto;line-height:normal;font-family:Menlo,'DejaVu Sans Mono',consolas,'Courier New',monospace\"><span style=\"font-weight: bold\"> Optimizer params: </span><span style=\"color: #00af00; text-decoration-color: #00af00\">63,804</span> (249.24 KB)\n",
       "</pre>\n"
      ],
      "text/plain": [
       "\u001b[1m Optimizer params: \u001b[0m\u001b[38;5;34m63,804\u001b[0m (249.24 KB)\n"
      ]
     },
     "metadata": {},
     "output_type": "display_data"
    }
   ],
   "source": [
    "#Initialising the model\n",
    "model_LSTM = Sequential()\n",
    "\n",
    "#Adding LSTM layers\n",
    "model_LSTM.add(LSTM(50, \n",
    "\t\t\t\t\treturn_sequences = True, \n",
    "\t\t\t\t\tinput_shape = (X_train.shape[1],1)))\n",
    "model_LSTM.add(LSTM(50, \n",
    "\t\t\t\t\treturn_sequences = False))\n",
    "model_LSTM.add(Dense(25))\n",
    "\n",
    "#Adding the output layer\n",
    "model_LSTM.add(Dense(1))\n",
    "\n",
    "#Compiling the model\n",
    "model_LSTM.compile(optimizer = 'adam',\n",
    "\t\t\t\t\tloss = 'mean_squared_error',\n",
    "\t\t\t\t\tmetrics = [\"accuracy\"])\n",
    "\n",
    "#Fitting the model\n",
    "model_LSTM.fit(X_train, \n",
    "\t\t\t\ty_train, \n",
    "\t\t\t\tbatch_size = 1, \n",
    "\t\t\t\tepochs = 12)\n",
    "model_LSTM.summary()\n"
   ]
  },
  {
   "cell_type": "code",
   "execution_count": 54,
   "metadata": {},
   "outputs": [
    {
     "name": "stdout",
     "output_type": "stream",
     "text": [
      "\u001b[1m16/16\u001b[0m \u001b[32m━━━━━━━━━━━━━━━━━━━━\u001b[0m\u001b[37m\u001b[0m \u001b[1m0s\u001b[0m 8ms/step\n",
      "\u001b[1m16/16\u001b[0m \u001b[32m━━━━━━━━━━━━━━━━━━━━\u001b[0m\u001b[37m\u001b[0m \u001b[1m1s\u001b[0m 39ms/step\n"
     ]
    }
   ],
   "source": [
    "# predictions with X_test data\n",
    "y_RNN = rnn_model.predict(X_test)\n",
    "y_LSTM = model_LSTM.predict(X_test)\n"
   ]
  },
  {
   "cell_type": "code",
   "execution_count": 55,
   "metadata": {},
   "outputs": [],
   "source": [
    "# scaling back from 0-1 to original\n",
    "y_RNN_O = scaler.inverse_transform(y_RNN) \n",
    "y_LSTM_O = scaler.inverse_transform(y_LSTM) \n"
   ]
  },
  {
   "cell_type": "code",
   "execution_count": 82,
   "metadata": {},
   "outputs": [
    {
     "data": {
      "text/plain": [
       "19037.773"
      ]
     },
     "execution_count": 82,
     "metadata": {},
     "output_type": "execute_result"
    }
   ],
   "source": [
    "y_RNN_O[0][-1]"
   ]
  },
  {
   "cell_type": "code",
   "execution_count": 85,
   "metadata": {},
   "outputs": [
    {
     "data": {
      "text/plain": [
       "array([[19221.05 ],\n",
       "       [19603.389],\n",
       "       [19915.969],\n",
       "       [19699.477],\n",
       "       [19690.727],\n",
       "       [19634.97 ],\n",
       "       [19379.668],\n",
       "       [19206.113],\n",
       "       [19517.521],\n",
       "       [19461.168],\n",
       "       [19268.447],\n",
       "       [18756.19 ],\n",
       "       [18438.217],\n",
       "       [18534.688],\n",
       "       [18349.639],\n",
       "       [18590.309],\n",
       "       [18495.367],\n",
       "       [18673.35 ],\n",
       "       [19201.387],\n",
       "       [19236.25 ],\n",
       "       [19183.086],\n",
       "       [18869.188],\n",
       "       [18416.512],\n",
       "       [18230.766],\n",
       "       [18016.951],\n",
       "       [18748.994],\n",
       "       [18558.797],\n",
       "       [18921.92 ],\n",
       "       [18733.574],\n",
       "       [18723.924],\n",
       "       [18592.326],\n",
       "       [18948.828],\n",
       "       [18867.31 ],\n",
       "       [19121.473],\n",
       "       [19392.344],\n",
       "       [19359.428],\n",
       "       [19411.91 ],\n",
       "       [19674.682],\n",
       "       [19474.807],\n",
       "       [19138.598],\n",
       "       [19491.984],\n",
       "       [19508.47 ],\n",
       "       [19577.617],\n",
       "       [19566.195],\n",
       "       [19724.91 ],\n",
       "       [20091.95 ],\n",
       "       [20029.402],\n",
       "       [20101.795],\n",
       "       [19908.66 ],\n",
       "       [19780.02 ],\n",
       "       [19928.225],\n",
       "       [19881.52 ],\n",
       "       [20054.135],\n",
       "       [20167.578],\n",
       "       [20292.592],\n",
       "       [20327.531],\n",
       "       [20289.23 ],\n",
       "       [20301.738],\n",
       "       [20320.723],\n",
       "       [20523.744],\n",
       "       [20328.676],\n",
       "       [20441.332],\n",
       "       [20230.002],\n",
       "       [19951.225],\n",
       "       [20037.902],\n",
       "       [19969.543],\n",
       "       [19828.053],\n",
       "       [20324.303],\n",
       "       [19983.89 ],\n",
       "       [19720.557],\n",
       "       [19422.768],\n",
       "       [19459.852],\n",
       "       [19208.715],\n",
       "       [19466.72 ],\n",
       "       [19477.049],\n",
       "       [19368.156],\n",
       "       [19485.469],\n",
       "       [19317.254],\n",
       "       [19414.984],\n",
       "       [19533.559],\n",
       "       [19457.812],\n",
       "       [19524.506],\n",
       "       [19614.035],\n",
       "       [19898.428],\n",
       "       [19837.7  ],\n",
       "       [19976.973],\n",
       "       [20085.94 ],\n",
       "       [20132.496],\n",
       "       [20325.713],\n",
       "       [20382.492],\n",
       "       [20513.3  ],\n",
       "       [20256.672],\n",
       "       [20352.303],\n",
       "       [20511.408],\n",
       "       [20533.217],\n",
       "       [20474.457],\n",
       "       [20654.002],\n",
       "       [20634.299],\n",
       "       [20581.135],\n",
       "       [20575.053],\n",
       "       [20708.193],\n",
       "       [20780.5  ],\n",
       "       [20645.22 ],\n",
       "       [20638.607],\n",
       "       [20582.105],\n",
       "       [20687.645],\n",
       "       [20742.701],\n",
       "       [20504.502],\n",
       "       [20595.527],\n",
       "       [20647.074],\n",
       "       [20612.762],\n",
       "       [20546.184],\n",
       "       [20523.127],\n",
       "       [20437.033],\n",
       "       [20221.27 ],\n",
       "       [20220.05 ],\n",
       "       [20093.334],\n",
       "       [20238.352],\n",
       "       [20202.035],\n",
       "       [20187.668],\n",
       "       [20196.137],\n",
       "       [20374.256],\n",
       "       [20557.998],\n",
       "       [20475.18 ],\n",
       "       [20252.342],\n",
       "       [20347.955],\n",
       "       [20014.059],\n",
       "       [19628.898],\n",
       "       [19732.506],\n",
       "       [19516.111],\n",
       "       [19312.53 ],\n",
       "       [19507.297],\n",
       "       [19408.871],\n",
       "       [19630.912],\n",
       "       [19677.861],\n",
       "       [19566.17 ],\n",
       "       [19395.91 ],\n",
       "       [19572.818],\n",
       "       [19615.799],\n",
       "       [19728.645],\n",
       "       [19914.658],\n",
       "       [19962.746],\n",
       "       [20098.44 ],\n",
       "       [20310.428],\n",
       "       [20192.596],\n",
       "       [20142.256],\n",
       "       [20142.652],\n",
       "       [20287.475],\n",
       "       [20483.35 ],\n",
       "       [20448.195],\n",
       "       [20566.16 ],\n",
       "       [20545.996],\n",
       "       [20642.193],\n",
       "       [20575.879],\n",
       "       [20589.719],\n",
       "       [20612.594],\n",
       "       [20636.42 ],\n",
       "       [20607.186],\n",
       "       [20421.148],\n",
       "       [20380.969],\n",
       "       [20483.06 ],\n",
       "       [20640.5  ],\n",
       "       [20546.244],\n",
       "       [20373.783],\n",
       "       [20408.377],\n",
       "       [20278.531],\n",
       "       [20580.037],\n",
       "       [20449.229],\n",
       "       [20632.443],\n",
       "       [20404.229],\n",
       "       [20434.848],\n",
       "       [20406.734],\n",
       "       [20431.146],\n",
       "       [20255.924],\n",
       "       [20248.5  ],\n",
       "       [20339.504],\n",
       "       [20288.658],\n",
       "       [20042.877],\n",
       "       [19867.1  ],\n",
       "       [19831.686],\n",
       "       [19922.271],\n",
       "       [19906.984],\n",
       "       [19664.586],\n",
       "       [19574.363],\n",
       "       [19788.367],\n",
       "       [20038.914],\n",
       "       [19907.463],\n",
       "       [20070.182],\n",
       "       [19976.191],\n",
       "       [19931.025],\n",
       "       [19850.26 ],\n",
       "       [19992.441],\n",
       "       [20010.002],\n",
       "       [19972.482],\n",
       "       [20048.064],\n",
       "       [19966.16 ],\n",
       "       [19870.59 ],\n",
       "       [19707.518],\n",
       "       [19633.16 ],\n",
       "       [19505.146],\n",
       "       [19400.652],\n",
       "       [19615.648],\n",
       "       [19743.795],\n",
       "       [19815.889],\n",
       "       [19970.236],\n",
       "       [20169.977],\n",
       "       [20156.848],\n",
       "       [19989.994],\n",
       "       [19727.379],\n",
       "       [19817.102],\n",
       "       [19842.096],\n",
       "       [19947.969],\n",
       "       [20108.61 ],\n",
       "       [20295.879],\n",
       "       [20207.514],\n",
       "       [20240.674],\n",
       "       [20385.223],\n",
       "       [20462.244],\n",
       "       [20462.201],\n",
       "       [20551.568],\n",
       "       [20560.562],\n",
       "       [20486.062],\n",
       "       [20582.469],\n",
       "       [20438.459],\n",
       "       [20524.06 ],\n",
       "       [20542.217],\n",
       "       [20394.441],\n",
       "       [20140.03 ],\n",
       "       [20143.576],\n",
       "       [20170.16 ],\n",
       "       [20214.277],\n",
       "       [20339.865],\n",
       "       [20278.201],\n",
       "       [20324.943],\n",
       "       [20167.637],\n",
       "       [19839.506],\n",
       "       [19955.113],\n",
       "       [19724.602],\n",
       "       [19839.291],\n",
       "       [19808.266],\n",
       "       [19712.773],\n",
       "       [19864.53 ],\n",
       "       [19826.238],\n",
       "       [19897.7  ],\n",
       "       [20006.465],\n",
       "       [20311.639],\n",
       "       [20364.602],\n",
       "       [20378.7  ],\n",
       "       [20502.324],\n",
       "       [20343.07 ],\n",
       "       [20153.85 ],\n",
       "       [20101.38 ],\n",
       "       [20098.945],\n",
       "       [20137.377],\n",
       "       [20213.096],\n",
       "       [20355.049],\n",
       "       [20539.283],\n",
       "       [20564.549],\n",
       "       [20421.703],\n",
       "       [20216.56 ],\n",
       "       [20096.664],\n",
       "       [19829.527],\n",
       "       [19722.889],\n",
       "       [19721.428],\n",
       "       [19581.367],\n",
       "       [19424.557],\n",
       "       [19684.834],\n",
       "       [19510.775],\n",
       "       [19104.281],\n",
       "       [19037.84 ],\n",
       "       [19014.795],\n",
       "       [19098.5  ],\n",
       "       [19320.39 ],\n",
       "       [19563.441],\n",
       "       [19670.904],\n",
       "       [19618.373],\n",
       "       [19498.762],\n",
       "       [19564.072],\n",
       "       [19664.475],\n",
       "       [19438.344],\n",
       "       [19313.482],\n",
       "       [19045.959],\n",
       "       [19106.762],\n",
       "       [18938.592],\n",
       "       [18942.03 ],\n",
       "       [18937.297],\n",
       "       [18819.717],\n",
       "       [18914.656],\n",
       "       [18947.611],\n",
       "       [19184.244],\n",
       "       [19709.752],\n",
       "       [19826.924],\n",
       "       [19694.295],\n",
       "       [19565.4  ],\n",
       "       [19575.64 ],\n",
       "       [19587.486],\n",
       "       [19630.32 ],\n",
       "       [19858.838],\n",
       "       [20045.207],\n",
       "       [20031.96 ],\n",
       "       [20085.248],\n",
       "       [20150.246],\n",
       "       [20204.293],\n",
       "       [20101.215],\n",
       "       [20087.504],\n",
       "       [20074.004],\n",
       "       [20087.365],\n",
       "       [19936.22 ],\n",
       "       [20057.6  ],\n",
       "       [20140.938],\n",
       "       [20191.85 ],\n",
       "       [20394.676],\n",
       "       [20355.143],\n",
       "       [20375.467],\n",
       "       [20278.016],\n",
       "       [20253.605],\n",
       "       [20285.602],\n",
       "       [20286.197],\n",
       "       [20195.334],\n",
       "       [20681.648],\n",
       "       [20737.326],\n",
       "       [20512.244],\n",
       "       [20638.443],\n",
       "       [20791.416],\n",
       "       [20623.281],\n",
       "       [20778.078],\n",
       "       [20842.36 ],\n",
       "       [20942.016],\n",
       "       [20880.896],\n",
       "       [20871.906],\n",
       "       [20767.354],\n",
       "       [20791.83 ],\n",
       "       [20817.562],\n",
       "       [20885.219],\n",
       "       [20989.57 ],\n",
       "       [20924.027],\n",
       "       [20961.547],\n",
       "       [20927.719],\n",
       "       [20932.764],\n",
       "       [20963.488],\n",
       "       [20807.043],\n",
       "       [20695.426],\n",
       "       [20737.115],\n",
       "       [20903.12 ],\n",
       "       [20900.094],\n",
       "       [21054.732],\n",
       "       [21015.49 ],\n",
       "       [21050.885],\n",
       "       [21067.117],\n",
       "       [21149.271],\n",
       "       [21159.594],\n",
       "       [21020.191],\n",
       "       [21095.322],\n",
       "       [21007.424],\n",
       "       [20837.379],\n",
       "       [20935.213],\n",
       "       [20886.217],\n",
       "       [20911.053],\n",
       "       [20978.98 ],\n",
       "       [20820.979],\n",
       "       [20634.092],\n",
       "       [20905.908],\n",
       "       [21168.045],\n",
       "       [21164.938],\n",
       "       [21137.97 ],\n",
       "       [21222.184],\n",
       "       [21267.34 ],\n",
       "       [21344.107],\n",
       "       [21250.47 ],\n",
       "       [21253.54 ],\n",
       "       [21251.457],\n",
       "       [21348.63 ],\n",
       "       [21494.412],\n",
       "       [21456.297],\n",
       "       [21529.574],\n",
       "       [21569.771],\n",
       "       [21755.535],\n",
       "       [21621.451],\n",
       "       [21730.525],\n",
       "       [21766.377],\n",
       "       [21883.822],\n",
       "       [21728.65 ],\n",
       "       [21813.79 ],\n",
       "       [21766.947],\n",
       "       [21779.541],\n",
       "       [21993.484],\n",
       "       [21999.033],\n",
       "       [21887.71 ],\n",
       "       [21889.941],\n",
       "       [21884.727],\n",
       "       [22050.514],\n",
       "       [22093.365],\n",
       "       [22038.736],\n",
       "       [21982.271],\n",
       "       [22077.484],\n",
       "       [21987.102],\n",
       "       [22185.88 ],\n",
       "       [22191.078],\n",
       "       [22178.215],\n",
       "       [22114.898],\n",
       "       [22028.928],\n",
       "       [21872.55 ],\n",
       "       [21646.836],\n",
       "       [21630.018],\n",
       "       [21614.227],\n",
       "       [21650.963],\n",
       "       [21730.271],\n",
       "       [21818.23 ],\n",
       "       [21923.74 ],\n",
       "       [21727.127],\n",
       "       [21851.395],\n",
       "       [21931.615],\n",
       "       [21860.293],\n",
       "       [21621.516],\n",
       "       [21728.578],\n",
       "       [21838.621],\n",
       "       [21911.541],\n",
       "       [22199.115],\n",
       "       [21985.158],\n",
       "       [22214.594],\n",
       "       [22287.613],\n",
       "       [22218.45 ],\n",
       "       [22177.791],\n",
       "       [22184.215],\n",
       "       [22193.031],\n",
       "       [22229.314],\n",
       "       [22335.123],\n",
       "       [22323.752],\n",
       "       [22274.014],\n",
       "       [22124.633],\n",
       "       [22252.697],\n",
       "       [22242.21 ],\n",
       "       [22074.848],\n",
       "       [21836.81 ],\n",
       "       [22040.494],\n",
       "       [22168.611],\n",
       "       [21964.57 ],\n",
       "       [21959.037],\n",
       "       [22048.08 ],\n",
       "       [22051.46 ],\n",
       "       [21909.688],\n",
       "       [21941.549],\n",
       "       [21907.482],\n",
       "       [21856.414],\n",
       "       [21595.49 ],\n",
       "       [21531.818],\n",
       "       [21513.156],\n",
       "       [21536.828],\n",
       "       [21462.87 ],\n",
       "       [21527.756],\n",
       "       [21528.443],\n",
       "       [21782.627],\n",
       "       [21647.172],\n",
       "       [21744.158],\n",
       "       [21903.54 ],\n",
       "       [21768.365],\n",
       "       [21941.12 ],\n",
       "       [22137.379],\n",
       "       [22175.363],\n",
       "       [21955.834],\n",
       "       [22027.896],\n",
       "       [21986.287],\n",
       "       [22316.873],\n",
       "       [22446.191],\n",
       "       [22567.338],\n",
       "       [22673.916],\n",
       "       [22768.416],\n",
       "       [22708.508],\n",
       "       [22546.072],\n",
       "       [22623.709],\n",
       "       [22731.424],\n",
       "       [22612.783],\n",
       "       [22477.404],\n",
       "       [22571.252],\n",
       "       [22703.09 ],\n",
       "       [22644.988],\n",
       "       [22773.812],\n",
       "       [22946.486],\n",
       "       [22410.83 ],\n",
       "       [21931.338],\n",
       "       [22137.768],\n",
       "       [21849.338],\n",
       "       [22185.428],\n",
       "       [22234.432],\n",
       "       [22341.38 ],\n",
       "       [22510.293],\n",
       "       [22743.457]], dtype=float32)"
      ]
     },
     "execution_count": 85,
     "metadata": {},
     "output_type": "execute_result"
    }
   ],
   "source": [
    "y_LSTM_O"
   ]
  },
  {
   "cell_type": "code",
   "execution_count": 84,
   "metadata": {},
   "outputs": [
    {
     "data": {
      "text/html": [
       "<div>\n",
       "<style scoped>\n",
       "    .dataframe tbody tr th:only-of-type {\n",
       "        vertical-align: middle;\n",
       "    }\n",
       "\n",
       "    .dataframe tbody tr th {\n",
       "        vertical-align: top;\n",
       "    }\n",
       "\n",
       "    .dataframe thead th {\n",
       "        text-align: right;\n",
       "    }\n",
       "</style>\n",
       "<table border=\"1\" class=\"dataframe\">\n",
       "  <thead>\n",
       "    <tr style=\"text-align: right;\">\n",
       "      <th></th>\n",
       "      <th>Open</th>\n",
       "    </tr>\n",
       "  </thead>\n",
       "  <tbody>\n",
       "    <tr>\n",
       "      <th>2008</th>\n",
       "      <td>20184.900391</td>\n",
       "    </tr>\n",
       "    <tr>\n",
       "      <th>2009</th>\n",
       "      <td>19917.000000</td>\n",
       "    </tr>\n",
       "    <tr>\n",
       "      <th>2010</th>\n",
       "      <td>19968.500000</td>\n",
       "    </tr>\n",
       "    <tr>\n",
       "      <th>2011</th>\n",
       "      <td>19961.800781</td>\n",
       "    </tr>\n",
       "    <tr>\n",
       "      <th>2012</th>\n",
       "      <td>20113.099609</td>\n",
       "    </tr>\n",
       "    <tr>\n",
       "      <th>...</th>\n",
       "      <td>...</td>\n",
       "    </tr>\n",
       "    <tr>\n",
       "      <th>2504</th>\n",
       "      <td>22341.400391</td>\n",
       "    </tr>\n",
       "    <tr>\n",
       "      <th>2505</th>\n",
       "      <td>22439.699219</td>\n",
       "    </tr>\n",
       "    <tr>\n",
       "      <th>2506</th>\n",
       "      <td>22620.900391</td>\n",
       "    </tr>\n",
       "    <tr>\n",
       "      <th>2507</th>\n",
       "      <td>22877.599609</td>\n",
       "    </tr>\n",
       "    <tr>\n",
       "      <th>2508</th>\n",
       "      <td>23015.199219</td>\n",
       "    </tr>\n",
       "  </tbody>\n",
       "</table>\n",
       "<p>501 rows × 1 columns</p>\n",
       "</div>"
      ],
      "text/plain": [
       "              Open\n",
       "2008  20184.900391\n",
       "2009  19917.000000\n",
       "2010  19968.500000\n",
       "2011  19961.800781\n",
       "2012  20113.099609\n",
       "...            ...\n",
       "2504  22341.400391\n",
       "2505  22439.699219\n",
       "2506  22620.900391\n",
       "2507  22877.599609\n",
       "2508  23015.199219\n",
       "\n",
       "[501 rows x 1 columns]"
      ]
     },
     "execution_count": 84,
     "metadata": {},
     "output_type": "execute_result"
    }
   ],
   "source": [
    "test_data"
   ]
  },
  {
   "cell_type": "code",
   "execution_count": 27,
   "metadata": {},
   "outputs": [],
   "source": [
    "import matplotlib.pyplot as plt"
   ]
  },
  {
   "cell_type": "code",
   "execution_count": 73,
   "metadata": {},
   "outputs": [
    {
     "data": {
      "text/plain": [
       "1858"
      ]
     },
     "execution_count": 73,
     "metadata": {},
     "output_type": "execute_result"
    }
   ],
   "source": [
    "# df['Date'].to_timestamp()\n",
    "\n",
    "date_col = pd.to_datetime(df['Date'])\n",
    "\n",
    "len(date_col[150:2008])"
   ]
  },
  {
   "cell_type": "code",
   "execution_count": 68,
   "metadata": {},
   "outputs": [
    {
     "data": {
      "text/plain": [
       "0       15339.500000\n",
       "1       15477.700195\n",
       "2       15561.700195\n",
       "3       15556.099609\n",
       "4       15535.900391\n",
       "            ...     \n",
       "2003    20051.400391\n",
       "2004    20061.400391\n",
       "2005    20182.199219\n",
       "2006    20191.699219\n",
       "2007    20230.599609\n",
       "Name: Open, Length: 2008, dtype: float64"
      ]
     },
     "execution_count": 68,
     "metadata": {},
     "output_type": "execute_result"
    }
   ],
   "source": [
    "train_data.Open"
   ]
  },
  {
   "cell_type": "code",
   "execution_count": 76,
   "metadata": {},
   "outputs": [
    {
     "data": {
      "image/png": "[encoded data removed]",
      "text/plain": [
       "<Figure size 1800x1200 with 2 Axes>"
      ]
     },
     "metadata": {},
     "output_type": "display_data"
    }
   ],
   "source": [
    "fig, axs = plt.subplots(2,figsize =(18,12),sharex=True, sharey=True)\n",
    "fig.suptitle('Model Predictions')\n",
    "\n",
    "#Plot for RNN predictions\n",
    "axs[0].plot(train_data.index[150:], train_data.Open[150:], label = \"train_data\", color = \"b\")\n",
    "axs[0].plot(test_data.index, test_data.Open, label = \"test_data\", color = \"g\")\n",
    "axs[0].plot(test_data.index[days_len:], y_RNN_O, label = \"y_RNN\", color = \"brown\")\n",
    "axs[0].legend()\n",
    "axs[0].title.set_text(\"Basic RNN\")\n",
    "\n",
    "#Plot for LSTM predictions\n",
    "axs[1].plot(train_data.index[150:], train_data.Open[150:], label = \"train_data\", color = \"b\")\n",
    "axs[1].plot(test_data.index, test_data.Open, label = \"test_data\", color = \"g\")\n",
    "axs[1].plot(test_data.index[days_len:], y_LSTM_O, label = \"y_LSTM\", color = \"orange\")\n",
    "axs[1].legend()\n",
    "axs[1].title.set_text(\"LSTM\")\n",
    "\n",
    "\n",
    "plt.xlabel(\"Days\")\n",
    "plt.ylabel(\"Open price\")\n",
    "\n",
    "plt.show()\n"
   ]
  },
  {
   "cell_type": "markdown",
   "metadata": {},
   "source": [
    "#again"
   ]
  },
  {
   "cell_type": "code",
   "execution_count": 112,
   "metadata": {},
   "outputs": [],
   "source": [
    "for_test = df['Open'][2495:].to_numpy().reshape(-1,1)"
   ]
  },
  {
   "cell_type": "code",
   "execution_count": 113,
   "metadata": {},
   "outputs": [
    {
     "data": {
      "text/plain": [
       "(14, 1)"
      ]
     },
     "execution_count": 113,
     "metadata": {},
     "output_type": "execute_result"
    }
   ],
   "source": [
    "for_test.shape"
   ]
  },
  {
   "cell_type": "code",
   "execution_count": 115,
   "metadata": {},
   "outputs": [],
   "source": [
    "test = scaler.fit_transform(for_test).reshape(1,14,1)"
   ]
  },
  {
   "cell_type": "code",
   "execution_count": 116,
   "metadata": {},
   "outputs": [
    {
     "data": {
      "text/plain": [
       "(1, 14, 1)"
      ]
     },
     "execution_count": 116,
     "metadata": {},
     "output_type": "execute_result"
    }
   ],
   "source": [
    "test.shape"
   ]
  },
  {
   "cell_type": "code",
   "execution_count": 124,
   "metadata": {},
   "outputs": [
    {
     "name": "stdout",
     "output_type": "stream",
     "text": [
      "\u001b[1m1/1\u001b[0m \u001b[32m━━━━━━━━━━━━━━━━━━━━\u001b[0m\u001b[37m\u001b[0m \u001b[1m0s\u001b[0m 59ms/step\n",
      "\u001b[1m1/1\u001b[0m \u001b[32m━━━━━━━━━━━━━━━━━━━━\u001b[0m\u001b[37m\u001b[0m \u001b[1m0s\u001b[0m 56ms/step\n"
     ]
    },
    {
     "data": {
      "text/plain": [
       "(array([[0.8864606]], dtype=float32), array([[0.7594789]], dtype=float32))"
      ]
     },
     "execution_count": 124,
     "metadata": {},
     "output_type": "execute_result"
    }
   ],
   "source": [
    "r = model_LSTM.predict(test)\n",
    "r1 = rnn_model.predict(test)\n",
    "r,r1"
   ]
  },
  {
   "cell_type": "code",
   "execution_count": 126,
   "metadata": {},
   "outputs": [
    {
     "data": {
      "text/plain": [
       "(array([[22974.117]], dtype=float32), array([[22827.402]], dtype=float32))"
      ]
     },
     "execution_count": 126,
     "metadata": {},
     "output_type": "execute_result"
    }
   ],
   "source": [
    "scaler.inverse_transform(r),scaler.inverse_transform(r1)"
   ]
  },
  {
   "cell_type": "code",
   "execution_count": null,
   "metadata": {},
   "outputs": [],
   "source": []
  }
 ],
 "metadata": {
  "kernelspec": {
   "display_name": "Python 3",
   "language": "python",
   "name": "python3"
  },
  "language_info": {
   "codemirror_mode": {
    "name": "ipython",
    "version": 3
   },
   "file_extension": ".py",
   "mimetype": "text/x-python",
   "name": "python",
   "nbconvert_exporter": "python",
   "pygments_lexer": "ipython3",
   "version": "3.10.2"
  }
 },
 "nbformat": 4,
 "nbformat_minor": 2
}
